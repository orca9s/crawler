{
 "cells": [
  {
   "cell_type": "code",
   "execution_count": 1,
   "metadata": {},
   "outputs": [],
   "source": [
    "import requests\n",
    "from urllib.parse import urlparse\n",
    "import os\n",
    "\n",
    "r = urlparse('http://comic.naver.com/webtoon/detail.nhn/data/episode_list.html')\n",
    "\n",
    "class Epiosode:\n",
    "    def __init__(self, webtoon_id, no, url_thumbnail, title, rating, created_data):\n",
    "        self.webtoon_id = webtoon_id\n",
    "        self.no = no\n",
    "        self.url_thumbnail = url_thumbnail\n",
    "        self.title = title\n",
    "        self.rating = rating\n",
    "        self.created_data = created_data\n",
    "\n",
    "    @property\n",
    "    def get_financial_statements(self):\n",
    "        if not os.path.exists(r'data/episode_list2.html'):\n",
    "            payload = {'titleId': self.webtoon_id, 'no': self.no}\n",
    "            r = requests.get('http://comic.naver.com/webtoon/list.nhn?', params=payload)\n",
    "            print(r.url)\n",
    "            with open('data/episode_list.html2', 'wt') as f:\n",
    "                f.write(r.text)\n",
    "\n",
    "\n",
    "class Webtoon:\n",
    "    def __init__(self, webtoon_id, title, author, description, episode_list):\n",
    "        self.webtoon_ide = webtoon_id\n",
    "        self.title = title\n",
    "        self.author = author\n",
    "        self.description = description\n",
    "        self.episode_list = list"
   ]
  },
  {
   "cell_type": "code",
   "execution_count": 3,
   "metadata": {},
   "outputs": [],
   "source": [
    "epi = Epiosode('651673', '309', 'dasdsa', 'asd','dasdas','dasdsa')"
   ]
  },
  {
   "cell_type": "code",
   "execution_count": 5,
   "metadata": {},
   "outputs": [
    {
     "name": "stdout",
     "output_type": "stream",
     "text": [
      "http://comic.naver.com/webtoon/list.nhn?titleId=651673&no=309\n"
     ]
    }
   ],
   "source": [
    "epi.get_financial_statements"
   ]
  }
 ],
 "metadata": {
  "kernelspec": {
   "display_name": "Python 3",
   "language": "python",
   "name": "python3"
  },
  "language_info": {
   "codemirror_mode": {
    "name": "ipython",
    "version": 3
   },
   "file_extension": ".py",
   "mimetype": "text/x-python",
   "name": "python",
   "nbconvert_exporter": "python",
   "pygments_lexer": "ipython3",
   "version": "3.6.5"
  }
 },
 "nbformat": 4,
 "nbformat_minor": 2
}
